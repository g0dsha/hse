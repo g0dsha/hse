{
 "cells": [
  {
   "cell_type": "markdown",
   "metadata": {},
   "source": [
    "Задание 1. Получение данных из публичного API\n",
    "1. Выберите публичный API. Например, JSONPlaceholder.\n",
    "2. Напишите скрипт, который:\n",
    "   - отправляет GET-запрос к /posts,\n",
    "   - извлекает и выводит заголовки и тела первых 5 постов."
   ]
  },
  {
   "cell_type": "code",
   "execution_count": 1,
   "metadata": {},
   "outputs": [
    {
     "name": "stdout",
     "output_type": "stream",
     "text": [
      "Заголовки и тела первых 5 постов:\n",
      "userId: 1, id: 1, title: sunt aut facere repellat provident occaecati excepturi optio reprehenderit, body: quia et suscipit\n",
      "suscipit recusandae consequuntur expedita et cum\n",
      "reprehenderit molestiae ut ut quas totam\n",
      "nostrum rerum est autem sunt rem eveniet architecto\n",
      "\n",
      "userId: 1, id: 2, title: qui est esse, body: est rerum tempore vitae\n",
      "sequi sint nihil reprehenderit dolor beatae ea dolores neque\n",
      "fugiat blanditiis voluptate porro vel nihil molestiae ut reiciendis\n",
      "qui aperiam non debitis possimus qui neque nisi nulla\n",
      "\n",
      "userId: 1, id: 3, title: ea molestias quasi exercitationem repellat qui ipsa sit aut, body: et iusto sed quo iure\n",
      "voluptatem occaecati omnis eligendi aut ad\n",
      "voluptatem doloribus vel accusantium quis pariatur\n",
      "molestiae porro eius odio et labore et velit aut\n",
      "\n",
      "userId: 1, id: 4, title: eum et est occaecati, body: ullam et saepe reiciendis voluptatem adipisci\n",
      "sit amet autem assumenda provident rerum culpa\n",
      "quis hic commodi nesciunt rem tenetur doloremque ipsam iure\n",
      "quis sunt voluptatem rerum illo velit\n",
      "\n",
      "userId: 1, id: 5, title: nesciunt quas odio, body: repudiandae veniam quaerat sunt sed\n",
      "alias aut fugiat sit autem sed est\n",
      "voluptatem omnis possimus esse voluptatibus quis\n",
      "est aut tenetur dolor neque\n",
      "\n"
     ]
    }
   ],
   "source": [
    "#pip install pip-system-certs\n",
    "import requests\n",
    "\n",
    "def get_posts(url, col):\n",
    "    try:\n",
    "        response = requests.get(url)\n",
    "        response.raise_for_status()  # Проверка на успешный ответ\n",
    "        posts = response.json()\n",
    "\n",
    "        print(f\"Заголовки и тела первых {col} постов:\")\n",
    "        for post in posts[:col]:\n",
    "            print(f\"userId: {post['userId']}, id: {post['id']}, title: {post['title']}, body: {post['body']}\")\n",
    "            print()\n",
    "    except requests.exceptions.HTTPError as http_err:\n",
    "        print(f\"HTTP ошибка: {http_err}\")\n",
    "    except requests.exceptions.RequestException as err:\n",
    "        print(f\"Ошибка запроса: {err}\")\n",
    "\n",
    "get_posts(\"https://jsonplaceholder.typicode.com/posts\", 5)"
   ]
  },
  {
   "cell_type": "markdown",
   "metadata": {},
   "source": [
    "Задание 2. Работа с параметрами запроса\n",
    "1. Используйте API OpenWeather для получения данных о погоде.\n",
    "2. Напишите программу, которая:\n",
    "   - принимает название города от пользователя,\n",
    "   - отправляет GET-запрос к API и выводит текущую температуру и описание погоды"
   ]
  },
  {
   "cell_type": "code",
   "execution_count": 43,
   "metadata": {},
   "outputs": [
    {
     "name": "stdout",
     "output_type": "stream",
     "text": [
      "Сейчас в Moscow переменная облачность и температура 2.08 градусов Цельсия\n"
     ]
    }
   ],
   "source": [
    "import requests\n",
    "\n",
    "def get_weather(api_key: str, coordinates: tuple):\n",
    "    url = f\"https://api.openweathermap.org/data/2.5/weather?lat={coordinates[0]}&lon={coordinates[1]}&appid={api_key}&units=metric&lang=ru\"\n",
    "    try:\n",
    "        response = requests.get(url)\n",
    "        response.raise_for_status()  # Проверка на успешный ответ\n",
    "        weather = response.json()\n",
    "        return weather['weather'][0]['description'], weather['main']['temp']\n",
    "    except requests.exceptions.HTTPError as http_err:\n",
    "        print(f\"HTTP ошибка: {http_err}\")\n",
    "    except requests.exceptions.RequestException as err:\n",
    "        print(f\"Ошибка запроса: {err}\")\n",
    "\n",
    "def get_coordinates(api_key: str, city: str):\n",
    "    url = f\"http://api.openweathermap.org/geo/1.0/direct?q={city}&limit=1&appid={api_key}\"\n",
    "    try:\n",
    "        response = requests.get(url)\n",
    "        response.raise_for_status()  # Проверка на успешный ответ\n",
    "        coordinates = response.json()\n",
    "        return coordinates[0]['lat'],coordinates[0]['lon']\n",
    "    except requests.exceptions.HTTPError as http_err:\n",
    "        print(f\"HTTP ошибка: {http_err}\")\n",
    "    except requests.exceptions.RequestException as err:\n",
    "        print(f\"Ошибка запроса: {err}\")\n",
    "\n",
    "api_key = 'c65c10d4750dd1bbc4176e5690090062'\n",
    "\n",
    "city = input('Введите название города')\n",
    "\n",
    "coordinates = get_coordinates(api_key,city)\n",
    "weather = get_weather(api_key, coordinates)\n",
    "\n",
    "print(f\"Сейчас в {city} {weather[0]} и температура {weather[1]} градусов Цельсия\")\n",
    "\n"
   ]
  }
 ],
 "metadata": {
  "kernelspec": {
   "display_name": "Python 3",
   "language": "python",
   "name": "python3"
  },
  "language_info": {
   "codemirror_mode": {
    "name": "ipython",
    "version": 3
   },
   "file_extension": ".py",
   "mimetype": "text/x-python",
   "name": "python",
   "nbconvert_exporter": "python",
   "pygments_lexer": "ipython3",
   "version": "3.11.2"
  }
 },
 "nbformat": 4,
 "nbformat_minor": 2
}
