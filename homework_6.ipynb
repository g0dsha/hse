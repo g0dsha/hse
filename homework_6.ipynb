{
 "cells": [
  {
   "cell_type": "markdown",
   "metadata": {},
   "source": [
    "Нужно реализовать класс Account, который отражает абстракцию базового поведения банковского аккаунта:\n",
    "● создать банковский аккаунт с параметрами: имя; стартовый баланс с которым зарегистрирован аккаунт; история операций*;\n",
    "● реализовать два метода, которые позволяют положить деньги на счёт или снять деньги со счёта;\n",
    "● продумать, как можно хранить историю поступления или снятия денег, чтобы с ней было удобно работать*."
   ]
  },
  {
   "cell_type": "code",
   "execution_count": 36,
   "metadata": {},
   "outputs": [],
   "source": [
    "from datetime import datetime\n",
    "\n",
    "class Account:\n",
    "    def __init__(self, name, balance=0):\n",
    "        self.name = name\n",
    "        self.balance = balance\n",
    "        self.history = []\n",
    "        self._add_transaction(\"Аккаунт создан, начальный баланс\", balance)\n",
    "        print(f\"Аккаунт {self.name} создан. Начальный баланс {self.balance}.\")\n",
    "    \n",
    "    def _add_transaction(self, transaction_type, amount):\n",
    "        transaction = {\n",
    "            \"type\": transaction_type,\n",
    "            \"amount\": amount,\n",
    "            \"balance_after\": self.balance,\n",
    "            \"timestamp\": datetime.now().strftime(\"%Y-%m-%d %H:%M:%S\")\n",
    "        }\n",
    "        self.history.append(transaction)\n",
    "\n",
    "    def show_balance(self):\n",
    "        print(f\"Текущий баланс на счёте {self.name}: {self.balance}\")        \n",
    "    \n",
    "    def deposit(self, amount):\n",
    "        if amount <= 0:\n",
    "            print(\"Сумма для пополнения должна быть положительной.\")\n",
    "            return\n",
    "        self.balance += amount\n",
    "        self._add_transaction(\"Внесение\", amount)\n",
    "        print(f\"{amount} добавлено на счёт {self.name}.\")\n",
    "        self.show_balance()\n",
    "    \n",
    "    def withdraw(self, amount):\n",
    "        if amount <= 0:\n",
    "            print(\"Сумма для снятия должна быть положительной.\")\n",
    "            return\n",
    "        if amount > self.balance:\n",
    "            print(\"Недостаточно средств на счёте.\")\n",
    "            return\n",
    "        self.balance -= amount\n",
    "        self._add_transaction(\"Снятие\", -amount)\n",
    "        print(f\"{amount} снято со счёта  {self.name}.\")\n",
    "        self.show_balance()\n",
    "    \n",
    "    def show_history(self):\n",
    "        print(f\"\\nИстория операций для {self.name}:\")\n",
    "        if not self.history:\n",
    "            print(\"Операции отсутствуют.\")\n",
    "        else:\n",
    "            for i, transaction in enumerate(self.history, 1):\n",
    "                print(f\"{i}. {transaction['timestamp']} | {transaction['type']}: {transaction['amount']} | Баланс: {transaction['balance_after']}\")"
   ]
  },
  {
   "cell_type": "code",
   "execution_count": 37,
   "metadata": {},
   "outputs": [
    {
     "name": "stdout",
     "output_type": "stream",
     "text": [
      "Аккаунт Вася создан. Начальный баланс 1000.\n",
      "500 добавлено на счёт Вася.\n",
      "Текущий баланс на счёте Вася: 1500\n",
      "200 снято со счёта  Вася.\n",
      "Текущий баланс на счёте Вася: 1300\n",
      "Недостаточно средств на счёте.\n",
      "Текущий баланс на счёте Вася: 1300\n",
      "300 добавлено на счёт Вася.\n",
      "Текущий баланс на счёте Вася: 1600\n",
      "\n",
      "История операций для Вася:\n",
      "1. 2024-12-27 09:51:37 | Аккаунт создан, начальный баланс: 1000 | Баланс: 1000\n",
      "2. 2024-12-27 09:51:37 | Внесение: 500 | Баланс: 1500\n",
      "3. 2024-12-27 09:51:37 | Снятие: -200 | Баланс: 1300\n",
      "4. 2024-12-27 09:51:37 | Внесение: 300 | Баланс: 1600\n"
     ]
    }
   ],
   "source": [
    "account = Account(name=\"Вася\", balance=1000)\n",
    "account.deposit(500)\n",
    "account.withdraw(200)\n",
    "account.withdraw(1500)\n",
    "account.show_balance()\n",
    "account.deposit(300)\n",
    "account.show_history()"
   ]
  }
 ],
 "metadata": {
  "kernelspec": {
   "display_name": "base",
   "language": "python",
   "name": "python3"
  },
  "language_info": {
   "codemirror_mode": {
    "name": "ipython",
    "version": 3
   },
   "file_extension": ".py",
   "mimetype": "text/x-python",
   "name": "python",
   "nbconvert_exporter": "python",
   "pygments_lexer": "ipython3",
   "version": "3.12.7"
  }
 },
 "nbformat": 4,
 "nbformat_minor": 2
}
