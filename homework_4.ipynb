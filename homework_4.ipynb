{
 "cells": [
  {
   "cell_type": "markdown",
   "metadata": {},
   "source": [
    "Задание 1\n",
    "Переведите содержимое файла purchase_log.txt в словарь purchases вида:\n",
    "{'1840e0b9d4': 'Продукты', ...}\n",
    "Пример работы программы при выводе первых двух элементов словаря\n",
    "purchases:\n",
    "1840e0b9d4 ‘Продукты‘\n",
    "4e4f90fcfb ‘Электроника‘"
   ]
  },
  {
   "cell_type": "code",
   "execution_count": null,
   "metadata": {},
   "outputs": [
    {
     "name": "stdout",
     "output_type": "stream",
     "text": [
      "purchases:\n",
      "1840e0b9d4 'Продукты'\n",
      "4e4f90fcfb 'Электроника'\n"
     ]
    }
   ],
   "source": [
    "import json\n",
    "\n",
    "purchases = {}\n",
    "with open('purchase_log.txt') as file:\n",
    "    file.readline()\n",
    "    for line in file:\n",
    "        record = json.loads(line.strip())\n",
    "        purchases[record['user_id']] = record['category']\n",
    "\n",
    "print(\"purchases:\")\n",
    "for i, (user_id, category) in enumerate(purchases.items()):\n",
    "    print(f\"{user_id} '{category}'\")\n",
    "    if i == 1:\n",
    "        break\n"
   ]
  },
  {
   "cell_type": "markdown",
   "metadata": {},
   "source": [
    "Задание 2 (необязательное)\n",
    "Для каждого user_id в фаaйле visit_log.csv определите третий столбец с категорией покупки. Если покупка была, сам файл visit_log.csv изменять не надо.\n",
    "Запишите в файл funnel.csv визиты из файла visit_log.csv, в которых были покупки с указанием категории.\n",
    "Учтите условия для данных:\n",
    "содержимое purchase_log.txt помещается в оперативную память компьютера;\n",
    "содержимое visit_log.csv — нет, используйте только построчную обработку этого файла.\n",
    "Примеры работы программы при выводе первых трёх строк файла funnel.csv:\n",
    "user_id,source,category\n",
    "1840e0b9d4,other,Продукты\n",
    "4e4f90fcfb,context,Электроника"
   ]
  },
  {
   "cell_type": "code",
   "execution_count": 19,
   "metadata": {},
   "outputs": [],
   "source": [
    "import json\n",
    "\n",
    "purchases = {}\n",
    "with open('purchase_log.txt') as file:\n",
    "    file.readline()\n",
    "    for line in file:\n",
    "        record = json.loads(line.strip())\n",
    "        purchases[record['user_id']] = record['category']\n",
    "\n",
    "with open('visit_log.csv') as visit_file, open('funnel.csv', 'w') as funnel_file:\n",
    "    funnel_file.write('user_id,source,category\\n')\n",
    "\n",
    "    for line in visit_file:\n",
    "        user_id, source = line.strip().split(',')\n",
    "        if user_id in purchases:\n",
    "            category = purchases[user_id]\n",
    "            funnel_file.write(f'{user_id},{source},{category}\\n')"
   ]
  }
 ],
 "metadata": {
  "kernelspec": {
   "display_name": "base",
   "language": "python",
   "name": "python3"
  },
  "language_info": {
   "codemirror_mode": {
    "name": "ipython",
    "version": 3
   },
   "file_extension": ".py",
   "mimetype": "text/x-python",
   "name": "python",
   "nbconvert_exporter": "python",
   "pygments_lexer": "ipython3",
   "version": "3.12.7"
  }
 },
 "nbformat": 4,
 "nbformat_minor": 2
}
