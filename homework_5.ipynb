{
 "cells": [
  {
   "cell_type": "markdown",
   "metadata": {},
   "source": [
    "Задание 1\n",
    "Печатные газеты использовали свой формат дат для каждого выпуска. Для каждой\n",
    "газеты из списка напишите формат указанной даты для перевода в объект datetime:\n",
    "The Moscow Times - Wednesday, October 2, 2002\n",
    "The Guardian - Friday, 11.10.13\n",
    "Daily News - Thursday, 18 August 1977\n",
    "Пример работы программы\n",
    "Программа должна выводить на экран объекты типа datetime, соответствующие датам\n",
    "в условии задачи"
   ]
  },
  {
   "cell_type": "code",
   "execution_count": 20,
   "metadata": {},
   "outputs": [
    {
     "name": "stdout",
     "output_type": "stream",
     "text": [
      "2002-10-02 00:00:00 - The Moscow Times - Wednesday, October 2, 2002\n",
      "2013-10-11 00:00:00 - The Guardian - Friday, 11.10.13\n",
      "1977-08-18 00:00:00 - Daily News - Thursday, 18 August 1977\n"
     ]
    }
   ],
   "source": [
    "from datetime import datetime\n",
    "\n",
    "the_moscow_times = \"Wednesday, October 2, 2002\"\n",
    "the_guardian = \"Friday, 11.10.13\"\n",
    "daily_news = \"Thursday, 18 August 1977\"\n",
    "\n",
    "print(\n",
    "    f\"{datetime.strptime(the_moscow_times, '%A, %B %d, %Y')} - The Moscow Times - {the_moscow_times}\"\n",
    ")\n",
    "print(\n",
    "    f\"{datetime.strptime(the_guardian, '%A, %d.%m.%y')} - The Guardian - {the_guardian}\"\n",
    ")\n",
    "print(f\"{datetime.strptime(daily_news, '%A, %d %B %Y')} - Daily News - {daily_news}\")"
   ]
  },
  {
   "cell_type": "markdown",
   "metadata": {},
   "source": [
    "Задание 2 (не обязательное)\n",
    "Напишите функцию date_range, которая возвращает список дат за период от start_date\n",
    "до end_date. Даты должны вводиться в формате YYYY-MM-DD. В случае неверного\n",
    "формата или при start_date > end_date должен возвращаться пустой список.\n",
    "Примеры работы программы:\n",
    "date_range(‘2022-01-01’, ‘2022-01-03’)\n",
    "[‘2022-01-01’, ‘2022-01-02’, ‘2022-01-03’]"
   ]
  },
  {
   "cell_type": "code",
   "execution_count": null,
   "metadata": {},
   "outputs": [
    {
     "name": "stdout",
     "output_type": "stream",
     "text": [
      "['2022-01-01', '2022-01-02', '2022-01-03']\n",
      "[]\n",
      "[]\n",
      "['2024-12-15', '2024-12-16', '2024-12-17', '2024-12-18', '2024-12-19', '2024-12-20', '2024-12-21', '2024-12-22', '2024-12-23', '2024-12-24', '2024-12-25']\n",
      "[]\n"
     ]
    }
   ],
   "source": [
    "from datetime import datetime, timedelta\n",
    "\n",
    "\n",
    "def date_range(start_date: str, end_date: str) -> list:\n",
    "    \"\"\"\n",
    "    Возвращает список дат за указанный период\n",
    "    \"\"\"\n",
    "\n",
    "    date_list = []\n",
    "    try:\n",
    "        start_date_dt = datetime.strptime(start_date, \"%Y-%m-%d\")\n",
    "        end_date_dt = datetime.strptime(end_date, \"%Y-%m-%d\")\n",
    "        current_dt = start_date_dt\n",
    "\n",
    "        while current_dt <= end_date_dt:\n",
    "            date_list.append(current_dt.strftime(\"%Y-%m-%d\"))\n",
    "            current_dt += timedelta(days=1)\n",
    "\n",
    "        return date_list\n",
    "\n",
    "    except Exception:\n",
    "        return []\n",
    "\n",
    "\n",
    "print(date_range(\"2022-01-01\", \"2022-01-03\"))\n",
    "print(date_range(\"20-12-23\", \"2024-12-15\"))\n",
    "print(date_range(\"\", \"2024-12-15\"))\n",
    "print(date_range(\"2024-12-15\", \"2024-12-25\"))\n",
    "print(date_range(\"2024-12-15\", \"\"))"
   ]
  }
 ],
 "metadata": {
  "kernelspec": {
   "display_name": "base",
   "language": "python",
   "name": "python3"
  },
  "language_info": {
   "codemirror_mode": {
    "name": "ipython",
    "version": 3
   },
   "file_extension": ".py",
   "mimetype": "text/x-python",
   "name": "python",
   "nbconvert_exporter": "python",
   "pygments_lexer": "ipython3",
   "version": "3.12.7"
  }
 },
 "nbformat": 4,
 "nbformat_minor": 2
}
