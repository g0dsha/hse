{
 "cells": [
  {
   "cell_type": "markdown",
   "metadata": {},
   "source": [
    "Задание 1\n",
    "Напишите код на Python для решения следующей задачи.\n",
    "Реализуйте функцию sum_distance(from, to), которая суммирует все числа от\n",
    "значения from до величины to включительно.\n",
    "Примечание. Если пользователь задаст первое число, которое окажется\n",
    "больше второго, просто поменяйте их местами."
   ]
  },
  {
   "cell_type": "code",
   "execution_count": 40,
   "metadata": {},
   "outputs": [
    {
     "name": "stdout",
     "output_type": "stream",
     "text": [
      "9\n"
     ]
    }
   ],
   "source": [
    "from functools import reduce\n",
    "\n",
    "def sum_distance(from_num: int, to_num: int) -> int:\n",
    "    \"\"\"\n",
    "    В учебных целях используем всё\n",
    "    \"\"\"\n",
    "    if from_num > to_num:\n",
    "        from_num, to_num = to_num, from_num\n",
    "    return reduce(lambda x,y: x+y, range(from_num, to_num+1))\n",
    "    \n",
    "print(sum_distance(int(input('Введите первое число')), int(input('Введите второе число'))))"
   ]
  },
  {
   "cell_type": "markdown",
   "metadata": {},
   "source": [
    "Задание 2\n",
    "Напишите код на Python для решения следующей задачи.\n",
    "Реализуйте функцию trim_and_repeat(), которая принимает три параметра:\n",
    "●строку;\n",
    "●offset — число символов, на которое нужно обрезать строку слева;\n",
    "●repetitions — сколько раз нужно повторить строку перед возвратом получившейся строки.\n",
    "Число символов для среза по умолчанию равно 0, а количество повторений — 1.\n",
    "Функция должна возвращать полученную строку."
   ]
  },
  {
   "cell_type": "code",
   "execution_count": null,
   "metadata": {},
   "outputs": [
    {
     "name": "stdout",
     "output_type": "stream",
     "text": [
      "world!world!world!\n"
     ]
    }
   ],
   "source": [
    "def trim_and_repeat(string: str, offset: int = 0, repetitions: int = 1) -> str:\n",
    "    \"\"\"\n",
    "    Усечение и повторение строки\n",
    "    \"\"\"\n",
    "    return string[offset:] * repetitions\n",
    "\n",
    "print(trim_and_repeat('Hello, world!',7,3))"
   ]
  }
 ],
 "metadata": {
  "kernelspec": {
   "display_name": "base",
   "language": "python",
   "name": "python3"
  },
  "language_info": {
   "codemirror_mode": {
    "name": "ipython",
    "version": 3
   },
   "file_extension": ".py",
   "mimetype": "text/x-python",
   "name": "python",
   "nbconvert_exporter": "python",
   "pygments_lexer": "ipython3",
   "version": "3.12.7"
  }
 },
 "nbformat": 4,
 "nbformat_minor": 2
}
